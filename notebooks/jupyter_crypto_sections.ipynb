{
 "cells": [
  {
   "cell_type": "code",
   "execution_count": 1,
   "id": "equivalent-objective",
   "metadata": {},
   "outputs": [],
   "source": [
    "import pandas as pd\n",
    "import re\n",
    "%config InlineBackend.figure_format = 'retina'"
   ]
  },
  {
   "cell_type": "code",
   "execution_count": 2,
   "id": "conventional-crash",
   "metadata": {},
   "outputs": [
    {
     "name": "stdout",
     "output_type": "stream",
     "text": [
      "Read 466 rows\n"
     ]
    }
   ],
   "source": [
    "# Read from all experiments\n",
    "csv_files = [\n",
    "    \"crypto_asymmetric_20220323_1659_sections.csv\",\n",
    "    \"crypto_hashing_20220323_1725_sections.csv\",\n",
    "]\n",
    "\n",
    "df = pd.concat([\n",
    "    pd.read_csv(f\"../measurements/{fn}\", usecols=[\"start\", \"end\", \"name\", \"energy\", \"power\"]) for fn in csv_files\n",
    "], ignore_index=True)\n",
    "df[\"duration\"] = df.end - df.start\n",
    "\n",
    "print(f\"Read {len(df)} rows\")"
   ]
  },
  {
   "cell_type": "code",
   "execution_count": 3,
   "id": "invisible-clock",
   "metadata": {},
   "outputs": [
    {
     "name": "stdout",
     "output_type": "stream",
     "text": [
      "mean(['idle-offline-begin']): 28.6mW\n"
     ]
    }
   ],
   "source": [
    "# Compute normalized power/energy\n",
    "idle_sections = [\"idle-offline-begin\"]\n",
    "idle_mean_power = df[df.name.isin(idle_sections)].power.mean()\n",
    "df[\"power_normalized\"] = df.power - idle_mean_power\n",
    "df[\"energy_normalized\"] = df.power_normalized * df.duration\n",
    "print(f\"mean({idle_sections}): {idle_mean_power:.1f}mW\")"
   ]
  },
  {
   "cell_type": "code",
   "execution_count": 4,
   "id": "endless-address",
   "metadata": {},
   "outputs": [],
   "source": [
    "def get_section_names(df, include_regex=\".*\", exclude_regex=None):\n",
    "    include_regex = re.compile(include_regex)\n",
    "    exclude_regex = re.compile(exclude_regex) if exclude_regex else None\n",
    "    return [\n",
    "        x\n",
    "        for x in df.name.unique()\n",
    "        if include_regex.search(x) and not (exclude_regex.search(x) if exclude_regex else False)\n",
    "    ]"
   ]
  },
  {
   "cell_type": "code",
   "execution_count": 5,
   "id": "equivalent-carroll",
   "metadata": {},
   "outputs": [],
   "source": [
    "def humanify(name):\n",
    "    try:\n",
    "        return {\n",
    "            \"keygen-rsa1024\": \"Gen RSA-1024\",\n",
    "            \"keygen-rsa2048\": \"Gen RSA-2048\",\n",
    "            \"keygen-rsa4096\": \"Gen RSA-4096\",\n",
    "            \"sign-rsa1024\": \"Sign RSA-1024\",\n",
    "            \"sign-rsa2048\": \"Sign RSA-2048\",\n",
    "            \"sign-rsa4096\": \"Sign RSA-4096\",\n",
    "            \"verify-rsa1024\": \"Verify RSA-1024\",\n",
    "            \"verify-rsa2048\": \"Verify RSA-2048\",\n",
    "            \"verify-rsa4096\": \"Verify RSA-4096\",\n",
    "            \n",
    "            \"keygen-ecdsa224\": \"Gen EC-224\",\n",
    "            \"keygen-ecdsa256\": \"Gen EC-256\",\n",
    "            \"keygen-ecdsa384\": \"Gen EC-384\",\n",
    "            \"keygen-ecdsa521\": \"Gen EC-521\",\n",
    "            \"sign-ecdsa224\": \"Sign EC-224\",\n",
    "            \"sign-ecdsa256\": \"Sign EC-256\",\n",
    "            \"sign-ecdsa384\": \"Sign EC-384\",\n",
    "            \"sign-ecdsa521\": \"Sign EC-521\",\n",
    "            \"verify-ecdsa224\": \"Verify EC-224\",\n",
    "            \"verify-ecdsa256\": \"Verify EC-256\",\n",
    "            \"verify-ecdsa384\": \"Verify EC-384\",\n",
    "            \"verify-ecdsa521\": \"Verify EC-521\",\n",
    "            \n",
    "            \"sphinx-single\": \"Sphinx (1x)\",\n",
    "            \"sphinx-multi-10\": \"Sphinx (10x)\",\n",
    "            \"sphinx-multi-100\": \"Sphinx (100x)\",\n",
    "            \n",
    "            \"hash-sha256\": \"SHA256\",\n",
    "            \"hash-sha512\": \"SHA512\",\n",
    "            \n",
    "            \"argon2-t1m16p1-i\": \"Argon2 (1x 16MiB, I)\",\n",
    "            \"argon2-t1m16p1-d\": \"Argon2 (1x 16MiB, D)\",\n",
    "            \"argon2-t1m16p1-id\": \"Argon2 (1x 16MiB)\",\n",
    "            \n",
    "            \"argon2-t2m32p1-id\": \"Argon2 (2x 32MiB)\",\n",
    "            \"argon2-t4m32p1-id\": \"Argon2 (4x 32MiB)\",\n",
    "            \"argon2-t2m64p1-id\": \"Argon2 (2x 64MiB)\",\n",
    "            \n",
    "            \"argon2-t2m32p2-id\": \"Argon2 (2x 32MiB p=2)\",\n",
    "            \"argon2-t2m32p4-id\": \"Argon2 (2x 32MiB p=4)\",\n",
    "            \n",
    "            \"argon2-owasp-1\": \"Argon2 (OWASP-1)\",\n",
    "            \"argon2-owasp-2\": \"Argon2 (OWASP-2)\",\n",
    "            \n",
    "            \"pbkdf2-light-i\": \"PBKDF2 (light)\",\n",
    "            \"pbkdf2-heavy-i\": \"PBKDF2 (strong)\",\n",
    "            \"pbkdf2-owasp\": \"PBKDF2 (OWASP)\",\n",
    "        }[name]\n",
    "    except KeyError:\n",
    "        return name"
   ]
  },
  {
   "cell_type": "code",
   "execution_count": 6,
   "id": "disciplinary-alloy",
   "metadata": {},
   "outputs": [],
   "source": [
    "names_rsa = get_section_names(df, \"rsa\")\n",
    "names_ec = get_section_names(df, \"ecdsa\")\n",
    "names_sphinx = get_section_names(df, \"sphinx\")\n",
    "names_hash = get_section_names(df, \"hash\")\n",
    "names_pwhash = get_section_names(df, \"argon|pbkdf\")"
   ]
  },
  {
   "cell_type": "code",
   "execution_count": 7,
   "id": "cultural-reaction",
   "metadata": {},
   "outputs": [],
   "source": [
    "def print_table(d, names):\n",
    "    for name in names:\n",
    "        p = d[d.name==name].energy_normalized.mean()\n",
    "        std = d[d.name==name].energy_normalized.std()\n",
    "        asterisk = \"*\" if p < 0.25 else \"\"\n",
    "        print(f\"{humanify(name)} & {p:.2f}{asterisk} & {std:.2f} \\\\\\\\ \")"
   ]
  },
  {
   "cell_type": "code",
   "execution_count": 8,
   "id": "heard-webcam",
   "metadata": {},
   "outputs": [
    {
     "name": "stdout",
     "output_type": "stream",
     "text": [
      "\\midrule\n",
      "Gen RSA-1024 & 116.47 & 76.36 \\\\ \n",
      "Gen RSA-2048 & 796.05 & 597.84 \\\\ \n",
      "Gen RSA-4096 & 2898.43 & 2042.77 \\\\ \n",
      "Sign RSA-1024 & 1.88 & 0.35 \\\\ \n",
      "Sign RSA-2048 & 6.22 & 1.22 \\\\ \n",
      "Sign RSA-4096 & 26.73 & 4.68 \\\\ \n",
      "Verify RSA-1024 & 0.34 & 0.10 \\\\ \n",
      "Verify RSA-2048 & 0.50 & 0.08 \\\\ \n",
      "Verify RSA-4096 & 0.75 & 0.10 \\\\ \n",
      "\\midrule\n",
      "Gen EC-224 & 1.11 & 0.06 \\\\ \n",
      "Gen EC-256 & 0.51 & 0.05 \\\\ \n",
      "Gen EC-384 & 2.65 & 0.07 \\\\ \n",
      "Gen EC-521 & 5.25 & 0.27 \\\\ \n",
      "Sign EC-224 & 1.43 & 0.15 \\\\ \n",
      "Sign EC-256 & 0.83 & 0.18 \\\\ \n",
      "Sign EC-384 & 3.24 & 0.16 \\\\ \n",
      "Sign EC-521 & 6.27 & 0.10 \\\\ \n",
      "Verify EC-224 & 1.52 & 0.05 \\\\ \n",
      "Verify EC-256 & 1.54 & 0.08 \\\\ \n",
      "Verify EC-384 & 3.43 & 0.07 \\\\ \n",
      "Verify EC-521 & 6.74 & 0.15 \\\\ \n",
      "\\midrule\n",
      "Sphinx (1x) & 9.66 & 0.31 \\\\ \n",
      "Sphinx (10x) & 86.34 & 8.07 \\\\ \n",
      "Sphinx (100x) & 842.44 & 11.40 \\\\ \n"
     ]
    }
   ],
   "source": [
    "print(\"\\\\midrule\")\n",
    "print_table(df, names_rsa)\n",
    "print(\"\\\\midrule\")\n",
    "print_table(df, names_ec)\n",
    "print(\"\\\\midrule\")\n",
    "print_table(df, names_sphinx)"
   ]
  },
  {
   "cell_type": "code",
   "execution_count": 9,
   "id": "naughty-albania",
   "metadata": {},
   "outputs": [
    {
     "name": "stdout",
     "output_type": "stream",
     "text": [
      "\\midrule\n",
      "SHA256 & 0.26 & 0.23 \\\\ \n",
      "SHA512 & 0.27 & 0.07 \\\\ \n",
      "\\midrule\n",
      "Argon2 (1x 16MiB, I) & 51.33 & 1.62 \\\\ \n",
      "Argon2 (1x 16MiB, D) & 50.07 & 1.91 \\\\ \n",
      "Argon2 (1x 16MiB) & 49.99 & 0.76 \\\\ \n",
      "Argon2 (2x 32MiB) & 221.87 & 6.45 \\\\ \n",
      "Argon2 (4x 32MiB) & 228.22 & 10.38 \\\\ \n",
      "Argon2 (2x 64MiB) & 446.03 & 11.80 \\\\ \n",
      "Argon2 (2x 32MiB p=2) & 176.05 & 0.78 \\\\ \n",
      "Argon2 (2x 32MiB p=4) & 148.03 & 6.02 \\\\ \n",
      "Argon2 (OWASP-1) & 124.27 & 6.59 \\\\ \n",
      "Argon2 (OWASP-2) & 101.68 & 4.19 \\\\ \n",
      "PBKDF2 (light) & 908.39 & 21.34 \\\\ \n",
      "PBKDF2 (strong) & 8964.32 & 50.79 \\\\ \n",
      "PBKDF2 (OWASP) & 6386.29 & 118.00 \\\\ \n"
     ]
    }
   ],
   "source": [
    "print(\"\\\\midrule\")\n",
    "print_table(df, names_hash)\n",
    "print(\"\\\\midrule\")\n",
    "print_table(df, names_pwhash)"
   ]
  }
 ],
 "metadata": {
  "kernelspec": {
   "display_name": "Python 3 (ipykernel)",
   "language": "python",
   "name": "python3"
  },
  "language_info": {
   "codemirror_mode": {
    "name": "ipython",
    "version": 3
   },
   "file_extension": ".py",
   "mimetype": "text/x-python",
   "name": "python",
   "nbconvert_exporter": "python",
   "pygments_lexer": "ipython3",
   "version": "3.8.10"
  }
 },
 "nbformat": 4,
 "nbformat_minor": 5
}
